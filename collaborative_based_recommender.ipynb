{
 "cells": [
  {
   "cell_type": "code",
   "execution_count": 1,
   "id": "8fe92ddd",
   "metadata": {},
   "outputs": [],
   "source": [
    "import pandas as pd\n",
    "import numpy as np\n",
    "from tqdm.notebook import tqdm\n",
    "\n",
    "import tensorflow as tf\n",
    "from tensorflow.keras import Model\n",
    "from tensorflow.keras.layers import Dropout,Dense,Embedding,Flatten\n",
    "from tensorflow.keras.preprocessing.text import one_hot\n",
    "import time\n",
    "from tensorflow import make_ndarray\n",
    "\n",
    "np.random.seed(42)"
   ]
  },
  {
   "cell_type": "code",
   "execution_count": 2,
   "id": "e5c5735c",
   "metadata": {},
   "outputs": [
    {
     "name": "stdout",
     "output_type": "stream",
     "text": [
      "Note: you may need to restart the kernel to use updated packages.\n"
     ]
    },
    {
     "name": "stderr",
     "output_type": "stream",
     "text": [
      "ERROR: Could not find a version that satisfies the requirement torch._C (from versions: none)\n",
      "ERROR: No matching distribution found for torch._C\n",
      "WARNING: You are using pip version 21.3.1; however, version 22.1.2 is available.\n",
      "You should consider upgrading via the 'C:\\Users\\sur\\PYTHON\\python.exe -m pip install --upgrade pip' command.\n"
     ]
    }
   ],
   "source": [
    "pip install torch._C"
   ]
  },
  {
   "cell_type": "code",
   "execution_count": null,
   "id": "f9852e1c",
   "metadata": {},
   "outputs": [],
   "source": []
  },
  {
   "cell_type": "code",
   "execution_count": null,
   "id": "048843c8",
   "metadata": {},
   "outputs": [],
   "source": []
  },
  {
   "cell_type": "code",
   "execution_count": null,
   "id": "e8970248",
   "metadata": {},
   "outputs": [],
   "source": []
  },
  {
   "cell_type": "code",
   "execution_count": null,
   "id": "69f8604c",
   "metadata": {},
   "outputs": [],
   "source": []
  },
  {
   "cell_type": "code",
   "execution_count": null,
   "id": "aabe07e0",
   "metadata": {},
   "outputs": [],
   "source": []
  },
  {
   "cell_type": "code",
   "execution_count": 3,
   "id": "4d8d90a7",
   "metadata": {},
   "outputs": [],
   "source": [
    "chunk=pd.read_csv(r'F:\\movie_set\\rate.csv',chunksize=1000000)\n",
    "df=pd.concat(chunk)"
   ]
  },
  {
   "cell_type": "code",
   "execution_count": 4,
   "id": "d9f83a81",
   "metadata": {},
   "outputs": [],
   "source": [
    "rand_userIds = np.random.choice(df['userId'].unique(), \n",
    "                                size=int(len(df['userId'].unique())*0.3), \n",
    "                                replace=False)\n",
    "\n",
    "df = df.loc[df['userId'].isin(rand_userIds)]"
   ]
  },
  {
   "cell_type": "code",
   "execution_count": 5,
   "id": "a82f61db",
   "metadata": {},
   "outputs": [],
   "source": [
    "df['rank_latest'] = df.groupby(['userId'])['timestamp'] \\\n",
    "                                .rank(method='first', ascending=False)"
   ]
  },
  {
   "cell_type": "code",
   "execution_count": null,
   "id": "4590ba3a",
   "metadata": {},
   "outputs": [],
   "source": []
  },
  {
   "cell_type": "code",
   "execution_count": 6,
   "id": "00a97186",
   "metadata": {},
   "outputs": [],
   "source": [
    "train_ratings = df[df['rank_latest'] != 1]\n",
    "test_ratings = df[df['rank_latest'] == 1]"
   ]
  },
  {
   "cell_type": "code",
   "execution_count": 7,
   "id": "0635dbcd",
   "metadata": {},
   "outputs": [
    {
     "data": {
      "text/html": [
       "<div>\n",
       "<style scoped>\n",
       "    .dataframe tbody tr th:only-of-type {\n",
       "        vertical-align: middle;\n",
       "    }\n",
       "\n",
       "    .dataframe tbody tr th {\n",
       "        vertical-align: top;\n",
       "    }\n",
       "\n",
       "    .dataframe thead th {\n",
       "        text-align: right;\n",
       "    }\n",
       "</style>\n",
       "<table border=\"1\" class=\"dataframe\">\n",
       "  <thead>\n",
       "    <tr style=\"text-align: right;\">\n",
       "      <th></th>\n",
       "      <th>userId</th>\n",
       "      <th>movieId</th>\n",
       "      <th>rating</th>\n",
       "      <th>timestamp</th>\n",
       "      <th>rank_latest</th>\n",
       "    </tr>\n",
       "  </thead>\n",
       "  <tbody>\n",
       "    <tr>\n",
       "      <th>96</th>\n",
       "      <td>3</td>\n",
       "      <td>60</td>\n",
       "      <td>3.0</td>\n",
       "      <td>1298861675</td>\n",
       "      <td>44.0</td>\n",
       "    </tr>\n",
       "    <tr>\n",
       "      <th>97</th>\n",
       "      <td>3</td>\n",
       "      <td>110</td>\n",
       "      <td>4.0</td>\n",
       "      <td>1298922049</td>\n",
       "      <td>18.0</td>\n",
       "    </tr>\n",
       "    <tr>\n",
       "      <th>98</th>\n",
       "      <td>3</td>\n",
       "      <td>247</td>\n",
       "      <td>3.5</td>\n",
       "      <td>1298861637</td>\n",
       "      <td>47.0</td>\n",
       "    </tr>\n",
       "    <tr>\n",
       "      <th>99</th>\n",
       "      <td>3</td>\n",
       "      <td>267</td>\n",
       "      <td>3.0</td>\n",
       "      <td>1298861761</td>\n",
       "      <td>40.0</td>\n",
       "    </tr>\n",
       "    <tr>\n",
       "      <th>100</th>\n",
       "      <td>3</td>\n",
       "      <td>296</td>\n",
       "      <td>4.5</td>\n",
       "      <td>1298862418</td>\n",
       "      <td>33.0</td>\n",
       "    </tr>\n",
       "    <tr>\n",
       "      <th>...</th>\n",
       "      <td>...</td>\n",
       "      <td>...</td>\n",
       "      <td>...</td>\n",
       "      <td>...</td>\n",
       "      <td>...</td>\n",
       "    </tr>\n",
       "    <tr>\n",
       "      <th>99816</th>\n",
       "      <td>668</td>\n",
       "      <td>3000</td>\n",
       "      <td>3.0</td>\n",
       "      <td>993613196</td>\n",
       "      <td>18.0</td>\n",
       "    </tr>\n",
       "    <tr>\n",
       "      <th>99817</th>\n",
       "      <td>668</td>\n",
       "      <td>3039</td>\n",
       "      <td>3.0</td>\n",
       "      <td>993613196</td>\n",
       "      <td>19.0</td>\n",
       "    </tr>\n",
       "    <tr>\n",
       "      <th>99818</th>\n",
       "      <td>668</td>\n",
       "      <td>3213</td>\n",
       "      <td>3.0</td>\n",
       "      <td>993613359</td>\n",
       "      <td>15.0</td>\n",
       "    </tr>\n",
       "    <tr>\n",
       "      <th>99819</th>\n",
       "      <td>668</td>\n",
       "      <td>4012</td>\n",
       "      <td>3.0</td>\n",
       "      <td>993613196</td>\n",
       "      <td>20.0</td>\n",
       "    </tr>\n",
       "    <tr>\n",
       "      <th>99820</th>\n",
       "      <td>668</td>\n",
       "      <td>6425</td>\n",
       "      <td>1.0</td>\n",
       "      <td>993613478</td>\n",
       "      <td>6.0</td>\n",
       "    </tr>\n",
       "  </tbody>\n",
       "</table>\n",
       "<p>30421 rows × 5 columns</p>\n",
       "</div>"
      ],
      "text/plain": [
       "       userId  movieId  rating   timestamp  rank_latest\n",
       "96          3       60     3.0  1298861675         44.0\n",
       "97          3      110     4.0  1298922049         18.0\n",
       "98          3      247     3.5  1298861637         47.0\n",
       "99          3      267     3.0  1298861761         40.0\n",
       "100         3      296     4.5  1298862418         33.0\n",
       "...       ...      ...     ...         ...          ...\n",
       "99816     668     3000     3.0   993613196         18.0\n",
       "99817     668     3039     3.0   993613196         19.0\n",
       "99818     668     3213     3.0   993613359         15.0\n",
       "99819     668     4012     3.0   993613196         20.0\n",
       "99820     668     6425     1.0   993613478          6.0\n",
       "\n",
       "[30421 rows x 5 columns]"
      ]
     },
     "execution_count": 7,
     "metadata": {},
     "output_type": "execute_result"
    }
   ],
   "source": [
    "train_ratings"
   ]
  },
  {
   "cell_type": "code",
   "execution_count": 8,
   "id": "b55433b9",
   "metadata": {},
   "outputs": [],
   "source": [
    "train_ratings = train_ratings[['userId', 'movieId', 'rating']]\n",
    "test_ratings = test_ratings[['userId', 'movieId', 'rating']]"
   ]
  },
  {
   "cell_type": "code",
   "execution_count": 9,
   "id": "56773a85",
   "metadata": {},
   "outputs": [],
   "source": [
    "train_ratings=train_ratings.astype({'userId':str,'movieId':str,'rating':float})"
   ]
  },
  {
   "cell_type": "code",
   "execution_count": 10,
   "id": "e43a4f6a",
   "metadata": {},
   "outputs": [
    {
     "name": "stdout",
     "output_type": "stream",
     "text": [
      "<class 'pandas.core.frame.DataFrame'>\n",
      "Int64Index: 30421 entries, 96 to 99820\n",
      "Data columns (total 3 columns):\n",
      " #   Column   Non-Null Count  Dtype  \n",
      "---  ------   --------------  -----  \n",
      " 0   userId   30421 non-null  object \n",
      " 1   movieId  30421 non-null  object \n",
      " 2   rating   30421 non-null  float64\n",
      "dtypes: float64(1), object(2)\n",
      "memory usage: 950.7+ KB\n"
     ]
    }
   ],
   "source": [
    "train_ratings.info()"
   ]
  },
  {
   "cell_type": "code",
   "execution_count": 11,
   "id": "c47bb267",
   "metadata": {},
   "outputs": [],
   "source": [
    "train_ratings.loc[:, 'rating'] = 1\n"
   ]
  },
  {
   "cell_type": "code",
   "execution_count": 12,
   "id": "d3c12e04",
   "metadata": {},
   "outputs": [
    {
     "data": {
      "text/plain": [
       "array(['60', '110', '247', ..., '137595', '138204', '6425'], dtype='<U21')"
      ]
     },
     "execution_count": 12,
     "metadata": {},
     "output_type": "execute_result"
    }
   ],
   "source": [
    "all_movieids = df['movieId'].unique().astype(str)\n",
    "all_movieids"
   ]
  },
  {
   "cell_type": "code",
   "execution_count": 13,
   "id": "aaa541bf",
   "metadata": {},
   "outputs": [],
   "source": [
    "#class MovieLensTrainDataset(Dataset):\n",
    "#     def __len__(self):\n",
    "#        return len(self.users)\n",
    "#  \n",
    "#    def __getitem__(self, idx):\n",
    "#        return self.users[idx], self.items[idx], self.labels[idx]#\n",
    "\n",
    "def get_dataset( ratings, all_movieIds):\n",
    "    user_vocab=220\n",
    "    movie_vocab=6300\n",
    "    \n",
    "    data=[]\n",
    "    labels=[]\n",
    "    #users, items, labels = [], [], []\n",
    "    user_item_set = set(zip(ratings['userId'], ratings['movieId']))\n",
    "        \n",
    "    num_negatives = 4\n",
    "    for u, i in user_item_set:\n",
    "        datapoint=[]\n",
    "        datapoint.append(one_hot(u,user_vocab))\n",
    "        datapoint.append(one_hot(i,movie_vocab))\n",
    "        datapoint.append([1])\n",
    "        data.append(datapoint)\n",
    "        for _ in range(num_negatives):\n",
    "            dpoint=[]\n",
    "            negative_item = np.random.choice(all_movieIds)\n",
    "            while (u, negative_item) in user_item_set:\n",
    "                negative_item = np.random.choice(all_movieIds)\n",
    "            dpoint.append(one_hot(u,user_vocab))\n",
    "            dpoint.append(one_hot(negative_item,movie_vocab))\n",
    "            dpoint.append([0])\n",
    "            data.append(dpoint)\n",
    "    return np.array(data)"
   ]
  },
  {
   "cell_type": "code",
   "execution_count": 14,
   "id": "38793f40",
   "metadata": {},
   "outputs": [
    {
     "data": {
      "text/plain": [
       "float"
      ]
     },
     "execution_count": 14,
     "metadata": {},
     "output_type": "execute_result"
    }
   ],
   "source": [
    "data=get_dataset(train_ratings,all_movieids)\n",
    "type(float(data[0][2][0]))"
   ]
  },
  {
   "cell_type": "code",
   "execution_count": 15,
   "id": "00cfee45",
   "metadata": {},
   "outputs": [
    {
     "data": {
      "text/plain": [
       "array([[  57],\n",
       "       [1313],\n",
       "       [   1]])"
      ]
     },
     "execution_count": 15,
     "metadata": {},
     "output_type": "execute_result"
    }
   ],
   "source": [
    "data[0]"
   ]
  },
  {
   "cell_type": "code",
   "execution_count": 16,
   "id": "cf560103",
   "metadata": {},
   "outputs": [],
   "source": [
    "train_dataset = tf.data.Dataset.from_tensor_slices(data).batch(64)"
   ]
  },
  {
   "cell_type": "code",
   "execution_count": 17,
   "id": "cb253d39",
   "metadata": {},
   "outputs": [],
   "source": [
    "class NCF(Model):\n",
    "    def __init__(self,user_vocab,movie_vocab):\n",
    "        super().__init__()\n",
    "        self.user_embedding=Embedding(user_vocab,8)\n",
    "        self.movie_embedding=Embedding(movie_vocab,8)\n",
    "        self.fc1=Dense(64,activation='relu')\n",
    "        self.fc2=Dense(32,activation='relu')\n",
    "        self.final=Dense(1,activation='sigmoid')\n",
    "        self.fltn=Flatten()\n",
    "    def forward(self, user,movie):\n",
    "        \n",
    "        # Pass through embedding layers\n",
    "        user_embedded = self.user_embedding(user)\n",
    "        movie_embedded = self.movie_embedding(movie)\n",
    "\n",
    "        # Concat the two embedding layers\n",
    "        vector = tf.concat((user_embedded, movie_embedded), axis=-0)\n",
    "        vector=self.fltn(vector)\n",
    "  \n",
    "\n",
    "        # Pass through dense layer\n",
    "        vector = self.fc1(vector)\n",
    "        vector = self.fc2(vector)\n",
    "\n",
    "        # Output layer\n",
    "        pred = self.final(vector)\n",
    "\n",
    "        return pred\n",
    "    "
   ]
  },
  {
   "cell_type": "code",
   "execution_count": 18,
   "id": "34d16d44",
   "metadata": {},
   "outputs": [],
   "source": [
    "model=NCF(220,6300)\n"
   ]
  },
  {
   "cell_type": "code",
   "execution_count": null,
   "id": "0ea897a1",
   "metadata": {},
   "outputs": [],
   "source": []
  },
  {
   "cell_type": "code",
   "execution_count": null,
   "id": "ac61aa63",
   "metadata": {},
   "outputs": [],
   "source": []
  },
  {
   "cell_type": "code",
   "execution_count": null,
   "id": "892da11e",
   "metadata": {},
   "outputs": [],
   "source": []
  },
  {
   "cell_type": "code",
   "execution_count": null,
   "id": "09837819",
   "metadata": {},
   "outputs": [],
   "source": []
  },
  {
   "cell_type": "code",
   "execution_count": 19,
   "id": "4b07c949",
   "metadata": {},
   "outputs": [],
   "source": [
    "optimizer = tf.keras.optimizers.Adam(1e-4)"
   ]
  },
  {
   "cell_type": "code",
   "execution_count": null,
   "id": "d3e8a8ca",
   "metadata": {},
   "outputs": [],
   "source": []
  },
  {
   "cell_type": "code",
   "execution_count": 20,
   "id": "299547de",
   "metadata": {},
   "outputs": [],
   "source": [
    "@tf.function\n",
    "def train_step(batch,model):\n",
    "\n",
    "    with tf.GradientTape() as tape:\n",
    "        loss=float(0)\n",
    "        for i in batch: \n",
    "            y_pred= model.forward(i[0][0],i[1][0])\n",
    "            error=(float(i[2][0])-float(y_pred))**2\n",
    "            for i in error:\n",
    "                loss+=i[0]\n",
    "            #print(\" done\")\n",
    "        loss= loss/float(batch.shape[0]) \n",
    "    gradients = tape.gradient(loss, model.trainable_variables)\n",
    "    \n",
    "    optimizer.apply_gradients(zip(gradients, model.trainable_variables))\n",
    "    "
   ]
  },
  {
   "cell_type": "code",
   "execution_count": 21,
   "id": "24733917",
   "metadata": {},
   "outputs": [],
   "source": [
    "def train(dataset, model, epochs):\n",
    "    for epoch in range(epochs):\n",
    "        start = time.time()\n",
    "\n",
    "    for batch in dataset:\n",
    "        train_step(batch,model)\n",
    "        #print(\"batch completed {}\".format(time.time()))\n",
    "        \n",
    "\n",
    "    print ('Time_____ for_______ epoch______ {} is {} sec'.format(epoch + 1, time.time()-start))\n",
    "\n",
    "  "
   ]
  },
  {
   "cell_type": "code",
   "execution_count": 22,
   "id": "ada62eaf",
   "metadata": {},
   "outputs": [
    {
     "name": "stdout",
     "output_type": "stream",
     "text": [
      "Time_____ for_______ epoch______ 1 is 114.2774658203125 sec\n"
     ]
    }
   ],
   "source": [
    "\n",
    "train(train_dataset,model,1)\n",
    "\n"
   ]
  },
  {
   "cell_type": "code",
   "execution_count": null,
   "id": "d04d973c",
   "metadata": {},
   "outputs": [],
   "source": []
  },
  {
   "cell_type": "code",
   "execution_count": null,
   "id": "82703e53",
   "metadata": {},
   "outputs": [],
   "source": [
    "\n",
    "\n"
   ]
  },
  {
   "cell_type": "code",
   "execution_count": null,
   "id": "785fa847",
   "metadata": {},
   "outputs": [],
   "source": []
  },
  {
   "cell_type": "code",
   "execution_count": 24,
   "id": "3687c5f7",
   "metadata": {},
   "outputs": [
    {
     "name": "stdout",
     "output_type": "stream",
     "text": [
      "<class 'pandas.core.frame.DataFrame'>\n",
      "Int64Index: 30421 entries, 96 to 99820\n",
      "Data columns (total 3 columns):\n",
      " #   Column   Non-Null Count  Dtype \n",
      "---  ------   --------------  ----- \n",
      " 0   userId   30421 non-null  object\n",
      " 1   movieId  30421 non-null  object\n",
      " 2   rating   30421 non-null  int64 \n",
      "dtypes: int64(1), object(2)\n",
      "memory usage: 950.7+ KB\n"
     ]
    }
   ],
   "source": [
    "train_ratings.info()"
   ]
  },
  {
   "cell_type": "code",
   "execution_count": 25,
   "id": "b46b1644",
   "metadata": {},
   "outputs": [
    {
     "data": {
      "text/plain": [
       "90729"
      ]
     },
     "execution_count": 25,
     "metadata": {},
     "output_type": "execute_result"
    }
   ],
   "source": [
    "rand_user=np.random.choice(test_ratings['userId'],size=1)\n",
    "indx=test_ratings['userId'].index[test_ratings['userId'].astype(int)==int(rand_user)][0]\n",
    "indx"
   ]
  },
  {
   "cell_type": "code",
   "execution_count": 26,
   "id": "a7c44122",
   "metadata": {},
   "outputs": [],
   "source": [
    "test_movie=test_ratings['movieId'][indx]"
   ]
  },
  {
   "cell_type": "code",
   "execution_count": 27,
   "id": "c88fdd8b",
   "metadata": {},
   "outputs": [],
   "source": [
    "combined=[]\n",
    "for u,m in zip(train_ratings['userId'],train_ratings['movieId']):\n",
    "    combined.append(str(u)+\" \"+str(m))\n",
    "    "
   ]
  },
  {
   "cell_type": "code",
   "execution_count": null,
   "id": "9db7ad2d",
   "metadata": {},
   "outputs": [],
   "source": []
  },
  {
   "cell_type": "code",
   "execution_count": 28,
   "id": "1f867ab6",
   "metadata": {},
   "outputs": [],
   "source": [
    "not_interacted=[]\n",
    "counter=0\n",
    "while counter<99:\n",
    "    random_set=np.random.choice(combined,size=1)\n",
    "    if int(random_set[0].split()[0])==int(rand_user):\n",
    "        continue\n",
    "    not_interacted.append(random_set[0].split()[1])\n",
    "    counter+=1\n",
    "    \n",
    "\n",
    "     \n",
    "        \n",
    "        "
   ]
  },
  {
   "cell_type": "code",
   "execution_count": 29,
   "id": "877441b1",
   "metadata": {},
   "outputs": [],
   "source": [
    "not_interacted.append(test_movie)"
   ]
  },
  {
   "cell_type": "code",
   "execution_count": 30,
   "id": "047569e6",
   "metadata": {},
   "outputs": [],
   "source": [
    "total_100=not_interacted"
   ]
  },
  {
   "cell_type": "code",
   "execution_count": 31,
   "id": "0a82e9e5",
   "metadata": {},
   "outputs": [
    {
     "data": {
      "text/plain": [
       "100"
      ]
     },
     "execution_count": 31,
     "metadata": {},
     "output_type": "execute_result"
    }
   ],
   "source": [
    "len(total_100)"
   ]
  },
  {
   "cell_type": "code",
   "execution_count": 32,
   "id": "88735ff5",
   "metadata": {},
   "outputs": [],
   "source": [
    "use=[]\n",
    "for i in range(100):\n",
    "    use.append(rand_user[0])"
   ]
  },
  {
   "cell_type": "code",
   "execution_count": 33,
   "id": "9637a97e",
   "metadata": {},
   "outputs": [
    {
     "data": {
      "text/plain": [
       "[602,\n",
       " 602,\n",
       " 602,\n",
       " 602,\n",
       " 602,\n",
       " 602,\n",
       " 602,\n",
       " 602,\n",
       " 602,\n",
       " 602,\n",
       " 602,\n",
       " 602,\n",
       " 602,\n",
       " 602,\n",
       " 602,\n",
       " 602,\n",
       " 602,\n",
       " 602,\n",
       " 602,\n",
       " 602,\n",
       " 602,\n",
       " 602,\n",
       " 602,\n",
       " 602,\n",
       " 602,\n",
       " 602,\n",
       " 602,\n",
       " 602,\n",
       " 602,\n",
       " 602,\n",
       " 602,\n",
       " 602,\n",
       " 602,\n",
       " 602,\n",
       " 602,\n",
       " 602,\n",
       " 602,\n",
       " 602,\n",
       " 602,\n",
       " 602,\n",
       " 602,\n",
       " 602,\n",
       " 602,\n",
       " 602,\n",
       " 602,\n",
       " 602,\n",
       " 602,\n",
       " 602,\n",
       " 602,\n",
       " 602,\n",
       " 602,\n",
       " 602,\n",
       " 602,\n",
       " 602,\n",
       " 602,\n",
       " 602,\n",
       " 602,\n",
       " 602,\n",
       " 602,\n",
       " 602,\n",
       " 602,\n",
       " 602,\n",
       " 602,\n",
       " 602,\n",
       " 602,\n",
       " 602,\n",
       " 602,\n",
       " 602,\n",
       " 602,\n",
       " 602,\n",
       " 602,\n",
       " 602,\n",
       " 602,\n",
       " 602,\n",
       " 602,\n",
       " 602,\n",
       " 602,\n",
       " 602,\n",
       " 602,\n",
       " 602,\n",
       " 602,\n",
       " 602,\n",
       " 602,\n",
       " 602,\n",
       " 602,\n",
       " 602,\n",
       " 602,\n",
       " 602,\n",
       " 602,\n",
       " 602,\n",
       " 602,\n",
       " 602,\n",
       " 602,\n",
       " 602,\n",
       " 602,\n",
       " 602,\n",
       " 602,\n",
       " 602,\n",
       " 602,\n",
       " 602]"
      ]
     },
     "execution_count": 33,
     "metadata": {},
     "output_type": "execute_result"
    }
   ],
   "source": [
    "use"
   ]
  },
  {
   "cell_type": "code",
   "execution_count": 34,
   "id": "968a45c9",
   "metadata": {},
   "outputs": [],
   "source": [
    "use=np.array([one_hot(str(i),220) for i in use])"
   ]
  },
  {
   "cell_type": "code",
   "execution_count": 35,
   "id": "0ab9c84b",
   "metadata": {},
   "outputs": [],
   "source": [
    "mov=np.array([one_hot(str(i),6300) for i in total_100])"
   ]
  },
  {
   "cell_type": "code",
   "execution_count": 44,
   "id": "4b2d5bec",
   "metadata": {},
   "outputs": [
    {
     "data": {
      "text/plain": [
       "18"
      ]
     },
     "execution_count": 44,
     "metadata": {},
     "output_type": "execute_result"
    }
   ],
   "source": [
    "use[0][0]"
   ]
  },
  {
   "cell_type": "code",
   "execution_count": 41,
   "id": "b370c349",
   "metadata": {},
   "outputs": [
    {
     "data": {
      "text/plain": [
       "array([18])"
      ]
     },
     "execution_count": 41,
     "metadata": {},
     "output_type": "execute_result"
    }
   ],
   "source": [
    "use[0]"
   ]
  },
  {
   "cell_type": "code",
   "execution_count": 56,
   "id": "4a22ee4b",
   "metadata": {},
   "outputs": [],
   "source": [
    "pred=[]\n",
    "#for u,m in zip(use,mov):\n",
    "p=model.forward(int(use[0]),int(mov[0]))\n",
    "pred.append([p,m[0]])"
   ]
  },
  {
   "cell_type": "code",
   "execution_count": 57,
   "id": "0d3308dd",
   "metadata": {},
   "outputs": [
    {
     "data": {
      "text/plain": [
       "<tf.Tensor: shape=(16, 1), dtype=float32, numpy=\n",
       "array([[0.18643588],\n",
       "       [0.20347267],\n",
       "       [0.18992358],\n",
       "       [0.18367699],\n",
       "       [0.21829745],\n",
       "       [0.20064172],\n",
       "       [0.17781907],\n",
       "       [0.2101543 ],\n",
       "       [0.32791054],\n",
       "       [0.35752624],\n",
       "       [0.25030988],\n",
       "       [0.19722322],\n",
       "       [0.19519106],\n",
       "       [0.20455524],\n",
       "       [0.3586344 ],\n",
       "       [0.29480207]], dtype=float32)>"
      ]
     },
     "execution_count": 57,
     "metadata": {},
     "output_type": "execute_result"
    }
   ],
   "source": [
    "pred[0][0]"
   ]
  },
  {
   "cell_type": "code",
   "execution_count": 59,
   "id": "646f4641",
   "metadata": {},
   "outputs": [],
   "source": [
    "a=Embedding(220,8)(26)\n",
    "b=Embedding(6300,8)(1712)"
   ]
  },
  {
   "cell_type": "code",
   "execution_count": 63,
   "id": "77447344",
   "metadata": {},
   "outputs": [],
   "source": [
    "v=tf.concat((a,b),axis=0)\n"
   ]
  },
  {
   "cell_type": "code",
   "execution_count": null,
   "id": "dd0ad593",
   "metadata": {},
   "outputs": [],
   "source": []
  },
  {
   "cell_type": "code",
   "execution_count": null,
   "id": "5d2f98c7",
   "metadata": {},
   "outputs": [],
   "source": []
  }
 ],
 "metadata": {
  "kernelspec": {
   "display_name": "Python 3 (ipykernel)",
   "language": "python",
   "name": "python3"
  },
  "language_info": {
   "codemirror_mode": {
    "name": "ipython",
    "version": 3
   },
   "file_extension": ".py",
   "mimetype": "text/x-python",
   "name": "python",
   "nbconvert_exporter": "python",
   "pygments_lexer": "ipython3",
   "version": "3.10.1"
  }
 },
 "nbformat": 4,
 "nbformat_minor": 5
}
